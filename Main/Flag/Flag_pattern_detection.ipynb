{
 "cells": [
  {
   "cell_type": "code",
   "execution_count": 1,
   "id": "91fc2d17-5d9f-43e2-bec3-7276d6cc6c67",
   "metadata": {},
   "outputs": [
    {
     "name": "stdout",
     "output_type": "stream",
     "text": [
      "Succesfully connected... version's 5.0.37\n"
     ]
    },
    {
     "data": {
      "text/html": [
       "<div>\n",
       "<style scoped>\n",
       "    .dataframe tbody tr th:only-of-type {\n",
       "        vertical-align: middle;\n",
       "    }\n",
       "\n",
       "    .dataframe tbody tr th {\n",
       "        vertical-align: top;\n",
       "    }\n",
       "\n",
       "    .dataframe thead th {\n",
       "        text-align: right;\n",
       "    }\n",
       "</style>\n",
       "<table border=\"1\" class=\"dataframe\">\n",
       "  <thead>\n",
       "    <tr style=\"text-align: right;\">\n",
       "      <th></th>\n",
       "      <th>open</th>\n",
       "      <th>close</th>\n",
       "    </tr>\n",
       "  </thead>\n",
       "  <tbody>\n",
       "    <tr>\n",
       "      <th>0</th>\n",
       "      <td>0.89091</td>\n",
       "      <td>0.89273</td>\n",
       "    </tr>\n",
       "    <tr>\n",
       "      <th>1</th>\n",
       "      <td>0.89268</td>\n",
       "      <td>0.89391</td>\n",
       "    </tr>\n",
       "    <tr>\n",
       "      <th>2</th>\n",
       "      <td>0.89391</td>\n",
       "      <td>0.89197</td>\n",
       "    </tr>\n",
       "    <tr>\n",
       "      <th>3</th>\n",
       "      <td>0.89196</td>\n",
       "      <td>0.89186</td>\n",
       "    </tr>\n",
       "    <tr>\n",
       "      <th>4</th>\n",
       "      <td>0.89187</td>\n",
       "      <td>0.89077</td>\n",
       "    </tr>\n",
       "  </tbody>\n",
       "</table>\n",
       "</div>"
      ],
      "text/plain": [
       "      open    close\n",
       "0  0.89091  0.89273\n",
       "1  0.89268  0.89391\n",
       "2  0.89391  0.89197\n",
       "3  0.89196  0.89186\n",
       "4  0.89187  0.89077"
      ]
     },
     "execution_count": 1,
     "metadata": {},
     "output_type": "execute_result"
    }
   ],
   "source": [
    "import MetaTrader5 as mt5 \n",
    "import pandas as pd \n",
    "import numpy as np\n",
    "from collections import deque\n",
    "from datetime import datetime\n",
    "\n",
    "import matplotlib.pyplot as plt \n",
    "\n",
    "from sklearn.ensemble import RandomForestClassifier\n",
    "from sklearn.svm import SVC\n",
    "from sklearn.tree import DecisionTreeClassifier\n",
    "from sklearn.linear_model import LogisticRegression\n",
    "from sklearn.naive_bayes import GaussianNB\n",
    "from sklearn.linear_model import SGDClassifier\n",
    "\n",
    "from sklearn.model_selection import train_test_split\n",
    "from sklearn.preprocessing import StandardScaler\n",
    "\n",
    "from sklearn.metrics  import f1_score, accuracy_score\n",
    "from sklearn.metrics import mean_absolute_error\n",
    "from sklearn.metrics import r2_score\n",
    "\n",
    "\n",
    "NORMAL_VALUE = 19\n",
    "ACCOUNT = input() # your account  \n",
    "PASSWORD = int(input())  # your password\n",
    "TICKER_NAME = \"AUDCAD\"\n",
    "SERVERNAME = \"Alpari-MT5-Demo\"\n",
    "TIME_START = datetime(2022, 11, 20)\n",
    "TIME_END = 1690482014\n",
    "\n",
    "\n",
    "pd.options.mode.chained_assignment = None\n",
    "\n",
    "if not mt5.initialize():\n",
    "    print(f\"The Error is ,{mt5.last_error()} \\n\")\n",
    "\n",
    "login_account = mt5.login(ACCOUNT, password=PASSWORD, server=SERVERNAME)\n",
    "if login_account:\n",
    "    print(f\"Succesfully connected... version's {mt5.__version__}\") # my version is 5.0.37\n",
    "else:\n",
    "    print(f\"Connection failed. Error, {mt5.last_error()}\")\n",
    "\n",
    "\n",
    "df = pd.DataFrame(mt5.copy_rates_range(TICKER_NAME, \n",
    "                                      mt5.TIMEFRAME_H1,\n",
    "                                      TIME_START,\n",
    "                                      TIME_END)\n",
    "                 )  \n",
    "\n",
    "df.drop([\"tick_volume\", \"real_volume\", \n",
    "         \"spread\", \"high\", \"low\", \"time\"], axis=1, inplace=True)\n",
    "df.head()"
   ]
  },
  {
   "cell_type": "code",
   "execution_count": 2,
   "id": "45685d30-0519-4384-8d76-e90c002d8dd9",
   "metadata": {},
   "outputs": [],
   "source": [
    "def ReadPositiveNegetive(file_name):\n",
    "    with open(file_name, 'r') as read:\n",
    "        lst = read.read()[1:-1].replace('[', '').replace(']', '').split(',')\n",
    "\n",
    "    indexes = []\n",
    "    cnt = 0\n",
    "    for i in lst:    \n",
    "        indexes.append(int(i.strip()[1:-1]))\n",
    "\n",
    "\n",
    "    indexes = sorted(indexes)[2:]\n",
    "    tow_index = []\n",
    "    for i in range(0, len(indexes), 2):\n",
    "        tow_index.append(indexes[i:i+2])\n",
    "    \n",
    "    return len(tow_index), tow_index\n",
    "\n",
    "\n",
    "\n",
    "ind_negetive, index_negetive = ReadPositiveNegetive('DataSetNegetive.txt')\n",
    "ind_positive, index_positive = ReadPositiveNegetive('DataSetPositive.txt')"
   ]
  },
  {
   "cell_type": "code",
   "execution_count": 3,
   "id": "b555e696-ebc5-42dd-9060-17ec8ecaa66f",
   "metadata": {},
   "outputs": [
    {
     "data": {
      "text/plain": [
       "('Postive : ',\n",
       " [[244, 263],\n",
       "  [370, 389],\n",
       "  [427, 446],\n",
       "  [564, 583],\n",
       "  [606, 625],\n",
       "  [748, 767],\n",
       "  [987, 1006],\n",
       "  [1123, 1142],\n",
       "  [1243, 1262],\n",
       "  [1372, 1391],\n",
       "  [1391, 1410],\n",
       "  [1454, 1473],\n",
       "  [1628, 1647],\n",
       "  [2025, 2044],\n",
       "  [2082, 2101],\n",
       "  [2109, 2128],\n",
       "  [2266, 2285],\n",
       "  [2289, 2308],\n",
       "  [2316, 2335],\n",
       "  [2571, 2590],\n",
       "  [2705, 2724],\n",
       "  [2988, 3007],\n",
       "  [3586, 3605],\n",
       "  [3613, 3632],\n",
       "  [3657, 3676],\n",
       "  [4086, 4105]],\n",
       " 'Negetive : ',\n",
       " [[244, 263],\n",
       "  [370, 389],\n",
       "  [427, 446],\n",
       "  [564, 583],\n",
       "  [606, 625],\n",
       "  [748, 767],\n",
       "  [987, 1006],\n",
       "  [1123, 1142],\n",
       "  [1243, 1262],\n",
       "  [1372, 1391],\n",
       "  [1391, 1410],\n",
       "  [1454, 1473],\n",
       "  [1628, 1647],\n",
       "  [2025, 2044],\n",
       "  [2082, 2101],\n",
       "  [2109, 2128],\n",
       "  [2266, 2285],\n",
       "  [2289, 2308],\n",
       "  [2316, 2335],\n",
       "  [2571, 2590],\n",
       "  [2705, 2724],\n",
       "  [2988, 3007],\n",
       "  [3586, 3605],\n",
       "  [3613, 3632],\n",
       "  [3657, 3676],\n",
       "  [4086, 4105]])"
      ]
     },
     "execution_count": 3,
     "metadata": {},
     "output_type": "execute_result"
    }
   ],
   "source": [
    "\"Postive : \", index_negetive, \"Negetive : \", index_negetive"
   ]
  },
  {
   "cell_type": "code",
   "execution_count": 4,
   "id": "52c2fd6a-99fc-40d2-a6fd-76a5ae13a115",
   "metadata": {},
   "outputs": [],
   "source": [
    "def ReadNeutral(file_name):\n",
    "    with open(file_name, 'r') as read:\n",
    "        lst = read.read()[1:-1].replace('[', '').replace(']', '').split(',')\n",
    "        \n",
    "    indexes = []\n",
    "    for i in lst:    \n",
    "        indexes.append([int(i.strip())-NORMAL_VALUE, int(i.strip())])\n",
    "\n",
    "    return len(sorted(indexes)[1:]), sorted(indexes)[1:]\n",
    "    \n",
    "\n",
    "ind_neutral, index_netral = ReadNeutral('DataSetNeutal.txt')"
   ]
  },
  {
   "cell_type": "code",
   "execution_count": 5,
   "id": "1c9a36de-8413-4fd2-a6bf-c2727f867161",
   "metadata": {},
   "outputs": [
    {
     "data": {
      "text/plain": [
       "('Netural: ',\n",
       " [[18, 37],\n",
       "  [89, 108],\n",
       "  [306, 325],\n",
       "  [465, 484],\n",
       "  [851, 870],\n",
       "  [1163, 1182],\n",
       "  [1417, 1436],\n",
       "  [1429, 1448],\n",
       "  [1528, 1547],\n",
       "  [1865, 1884],\n",
       "  [1915, 1934],\n",
       "  [2150, 2169],\n",
       "  [2203, 2222],\n",
       "  [2341, 2360],\n",
       "  [2514, 2533],\n",
       "  [2593, 2612],\n",
       "  [2758, 2777],\n",
       "  [2776, 2795],\n",
       "  [3004, 3023],\n",
       "  [3082, 3101],\n",
       "  [3116, 3135],\n",
       "  [3134, 3153],\n",
       "  [3202, 3221],\n",
       "  [3264, 3283],\n",
       "  [3354, 3373],\n",
       "  [3795, 3814],\n",
       "  [3837, 3856]])"
      ]
     },
     "execution_count": 5,
     "metadata": {},
     "output_type": "execute_result"
    }
   ],
   "source": [
    "\"Netural: \", index_netral"
   ]
  },
  {
   "cell_type": "code",
   "execution_count": 6,
   "id": "26a9f993-2bfc-44be-a7ec-4af169fcb1a9",
   "metadata": {},
   "outputs": [
    {
     "data": {
      "text/plain": [
       "'Data Must be balanced so the length must near together... (27, 24, 26)'"
      ]
     },
     "execution_count": 6,
     "metadata": {},
     "output_type": "execute_result"
    }
   ],
   "source": [
    "f'Data Must be balanced so the length must near together... {ind_neutral, ind_positive, ind_negetive}'"
   ]
  },
  {
   "cell_type": "code",
   "execution_count": 7,
   "id": "6c632c7e-cfe1-477e-9b0d-e590da261db4",
   "metadata": {},
   "outputs": [],
   "source": [
    "# New We must append index of data to main_df dataframe\n",
    "def DataSetTogether(df, index, target):\n",
    "    all_data = []\n",
    "    for ind in index:\n",
    "        data = []\n",
    "        for val in df.loc[ind[0]:ind[1]-1].values:\n",
    "            data.append(val[0])\n",
    "            data.append(val[1])\n",
    "        \n",
    "        if len(data)==38:\n",
    "            data.append(target)\n",
    "        \n",
    "        if 40>len(data)>36:\n",
    "            all_data.append(data)\n",
    "        \n",
    "    return all_data\n",
    "\n",
    "\n",
    "\n",
    "neg_data = DataSetTogether(df, index_negetive, -1)\n",
    "neu_data = DataSetTogether(df, index_netral, 0)\n",
    "pos_data = DataSetTogether(df, index_positive, 1)\n",
    "\n",
    "dataset = [neg_data, neu_data, pos_data]"
   ]
  },
  {
   "cell_type": "code",
   "execution_count": 8,
   "id": "d19a1b57-c48b-4d9f-b358-c97a6016ed72",
   "metadata": {},
   "outputs": [],
   "source": [
    "X = []\n",
    "y = []\n",
    "for j in dataset:\n",
    "    for i in j:\n",
    "        X.append(i[:-1])\n",
    "        y.append(i[-1])\n",
    "        \n",
    "X, y = np.array(X), np.array(y)"
   ]
  },
  {
   "cell_type": "code",
   "execution_count": 9,
   "id": "2fec6688-05ad-4429-95d6-f00adcd00402",
   "metadata": {},
   "outputs": [
    {
     "name": "stdout",
     "output_type": "stream",
     "text": [
      "Shape of X_train (72, 38)\n",
      "Shape of the Y_train (72,)\n",
      "Shape of the X_valid (2, 38)\n",
      "Shape of the Y_valid (2,)\n"
     ]
    }
   ],
   "source": [
    "scaler = StandardScaler()\n",
    "X = scaler.fit_transform(X)\n",
    "\n",
    "X_train, X_test, y_train, y_test = train_test_split(X, y, test_size=0.02, random_state=2)\n",
    "print(f\"Shape of X_train {X_train.shape}\")\n",
    "print(f\"Shape of the Y_train {y_train.shape}\")\n",
    "print(f\"Shape of the X_valid {X_test.shape}\")\n",
    "print(f\"Shape of the Y_valid {y_test.shape}\")"
   ]
  },
  {
   "cell_type": "code",
   "execution_count": 10,
   "id": "1eeb2fc6-a6b9-43f8-ac0a-494ebe15ab19",
   "metadata": {},
   "outputs": [
    {
     "name": "stdout",
     "output_type": "stream",
     "text": [
      "100.0\n",
      "0.0\n",
      "0.0\n"
     ]
    }
   ],
   "source": [
    "model = RandomForestClassifier(n_estimators=150, n_jobs=-1)\n",
    "model.fit(X, y)\n",
    "\n",
    "pred = model.predict(X_test)\n",
    " \n",
    "print(accuracy_score(y_test, pred) * 100)\n",
    "print(mean_absolute_error(y_test, pred))\n",
    "print(mean_absolute_error(y_test, pred))"
   ]
  },
  {
   "cell_type": "code",
   "execution_count": 127,
   "id": "ad545abe-d5b5-477f-aab9-04a2613f8a4c",
   "metadata": {},
   "outputs": [
    {
     "name": "stdout",
     "output_type": "stream",
     "text": [
      "50.0\n",
      "0.5\n",
      "0.5\n"
     ]
    }
   ],
   "source": [
    "model = LogisticRegression()\n",
    "model.fit(X, y)\n",
    "\n",
    "pred = model.predict(X_test)\n",
    " \n",
    "print(accuracy_score(y_test, pred) * 100)\n",
    "print(mean_absolute_error(y_test, pred))\n",
    "print(mean_absolute_error(y_test, pred))"
   ]
  },
  {
   "cell_type": "code",
   "execution_count": 132,
   "id": "6f7ec78d-6452-4ff6-8bc2-c3233a1f9381",
   "metadata": {},
   "outputs": [],
   "source": [
    "# the RandomForestClassifier is better choise"
   ]
  },
  {
   "cell_type": "code",
   "execution_count": 128,
   "id": "06fb75d9-b4f6-4855-80ed-11b183f81272",
   "metadata": {},
   "outputs": [
    {
     "data": {
      "text/html": [
       "<div>\n",
       "<style scoped>\n",
       "    .dataframe tbody tr th:only-of-type {\n",
       "        vertical-align: middle;\n",
       "    }\n",
       "\n",
       "    .dataframe tbody tr th {\n",
       "        vertical-align: top;\n",
       "    }\n",
       "\n",
       "    .dataframe thead th {\n",
       "        text-align: right;\n",
       "    }\n",
       "</style>\n",
       "<table border=\"1\" class=\"dataframe\">\n",
       "  <thead>\n",
       "    <tr style=\"text-align: right;\">\n",
       "      <th></th>\n",
       "      <th>open</th>\n",
       "      <th>close</th>\n",
       "      <th>flag</th>\n",
       "    </tr>\n",
       "  </thead>\n",
       "  <tbody>\n",
       "    <tr>\n",
       "      <th>326</th>\n",
       "      <td>1.11373</td>\n",
       "      <td>1.11385</td>\n",
       "      <td>NaN</td>\n",
       "    </tr>\n",
       "    <tr>\n",
       "      <th>327</th>\n",
       "      <td>1.11385</td>\n",
       "      <td>1.10592</td>\n",
       "      <td>NaN</td>\n",
       "    </tr>\n",
       "    <tr>\n",
       "      <th>328</th>\n",
       "      <td>1.10589</td>\n",
       "      <td>1.10078</td>\n",
       "      <td>NaN</td>\n",
       "    </tr>\n",
       "    <tr>\n",
       "      <th>329</th>\n",
       "      <td>1.10079</td>\n",
       "      <td>1.09919</td>\n",
       "      <td>NaN</td>\n",
       "    </tr>\n",
       "    <tr>\n",
       "      <th>330</th>\n",
       "      <td>1.09919</td>\n",
       "      <td>1.09969</td>\n",
       "      <td>NaN</td>\n",
       "    </tr>\n",
       "  </tbody>\n",
       "</table>\n",
       "</div>"
      ],
      "text/plain": [
       "        open    close  flag\n",
       "326  1.11373  1.11385   NaN\n",
       "327  1.11385  1.10592   NaN\n",
       "328  1.10589  1.10078   NaN\n",
       "329  1.10079  1.09919   NaN\n",
       "330  1.09919  1.09969   NaN"
      ]
     },
     "execution_count": 128,
     "metadata": {},
     "output_type": "execute_result"
    }
   ],
   "source": [
    "df_test = pd.DataFrame(mt5.copy_rates_range('EURUSD', \n",
    "                                      mt5.TIMEFRAME_H1,\n",
    "                                      datetime(2023, 7, 10),\n",
    "                                      TIME_END)\n",
    "                 )  \n",
    "\n",
    "df_test.drop([\"tick_volume\", \"real_volume\", \n",
    "         \"spread\", \"high\", \"low\", \"time\"], axis=1, inplace=True)\n",
    "\n",
    "df_test['flag'] = np.NaN\n",
    "df_test.tail()"
   ]
  },
  {
   "cell_type": "code",
   "execution_count": 129,
   "id": "57cf413f-031d-4602-b360-0c2f33a66b98",
   "metadata": {},
   "outputs": [
    {
     "name": "stdout",
     "output_type": "stream",
     "text": [
      "X has 16 features, but LogisticRegression is expecting 38 features as input.\n"
     ]
    }
   ],
   "source": [
    "indx_buy = []\n",
    "buy = []\n",
    "indx_sell = []\n",
    "sell = []\n",
    "for indx in range(0, len(df_test), NORMAL_VALUE):\n",
    "    test = []\n",
    "    for val in df_test.iloc[indx:indx+NORMAL_VALUE].values:\n",
    "        test.append(val[0])\n",
    "        test.append(val[1])\n",
    "    \n",
    "    try:\n",
    "        test = scaler.fit_transform(np.array(test).reshape(-1, 1))\n",
    "        forcast = model.predict(test.reshape(1, -1))\n",
    "        if forcast==1:\n",
    "            df_test['flag'].iloc[indx] = forcast\n",
    "            buy.append(df_test['close'].iloc[indx+2])\n",
    "            indx_buy.append(indx+2)\n",
    "            \n",
    "        elif forcast==-1:\n",
    "            df_test['flag'].iloc[indx] = forcast\n",
    "            sell.append(df_test['close'].iloc[indx+2])\n",
    "            indx_sell.append(indx+2)\n",
    "            \n",
    "    except Exception as e:\n",
    "        print(e)\n",
    "    \n",
    "        "
   ]
  },
  {
   "cell_type": "code",
   "execution_count": 130,
   "id": "97310bc8-1d9a-4c21-9633-ab57bd3e1c00",
   "metadata": {},
   "outputs": [],
   "source": [
    "def chandlesPlot(d, o, c):\n",
    "    plt.figure(figsize=(24, 14))\n",
    "    color = []\n",
    "    for open_p, close_p in zip(o, c):\n",
    "        if open_p<close_p:\n",
    "            color.append(\"g\")\n",
    "        else:\n",
    "            color.append(\"r\")\n",
    "\n",
    "    plt.bar(d, height=np.abs(o-c), \n",
    "            width=0.8, \n",
    "            color=color, \n",
    "            bottom=np.min((o, c), axis=0))\n",
    "\n",
    "\n",
    "def ShowData(main_df):\n",
    "    chandlesPlot(main_df.index, \n",
    "                 main_df[\"open\"], \n",
    "                 main_df[\"close\"])\n",
    "    \n",
    "    plt.scatter(indx_buy, buy, color='g', linewidths=15)\n",
    "    plt.scatter(indx_sell, sell, color='r', linewidths=15)  "
   ]
  },
  {
   "cell_type": "code",
   "execution_count": 131,
   "id": "245f764b-a53a-45d3-ac22-97b359a2504c",
   "metadata": {},
   "outputs": [
    {
     "data": {
      "image/png": "[encoded data removed]",
      "text/plain": [
       "<Figure size 1728x1008 with 1 Axes>"
      ]
     },
     "metadata": {
      "needs_background": "light"
     },
     "output_type": "display_data"
    }
   ],
   "source": [
    "ShowData(df_test)"
   ]
  },
  {
   "cell_type": "code",
   "execution_count": null,
   "id": "52ede6dc-c807-4d3a-b707-b3b61e35d158",
   "metadata": {},
   "outputs": [],
   "source": []
  },
  {
   "cell_type": "code",
   "execution_count": null,
   "id": "df73c019-b3a1-49fd-9762-9bf445561d1e",
   "metadata": {},
   "outputs": [],
   "source": []
  },
  {
   "cell_type": "code",
   "execution_count": null,
   "id": "4f6d662d-19a0-4b88-9597-63f54b0805fd",
   "metadata": {},
   "outputs": [],
   "source": []
  }
 ],
 "metadata": {
  "kernelspec": {
   "display_name": "Python 3 (ipykernel)",
   "language": "python",
   "name": "python3"
  },
  "language_info": {
   "codemirror_mode": {
    "name": "ipython",
    "version": 3
   },
   "file_extension": ".py",
   "mimetype": "text/x-python",
   "name": "python",
   "nbconvert_exporter": "python",
   "pygments_lexer": "ipython3",
   "version": "3.10.4"
  }
 },
 "nbformat": 4,
 "nbformat_minor": 5
}
